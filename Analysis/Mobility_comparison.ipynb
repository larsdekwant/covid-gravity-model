{
 "cells": [
  {
   "cell_type": "code",
   "execution_count": 1,
   "metadata": {},
   "outputs": [],
   "source": [
    "import numpy as np\n",
    "import matplotlib.pyplot as plt\n",
    "import pandas as pd\n",
    "\n",
    "mez_freq = np.load(\"../Data/MobMat_freq_mezuro.npy\")\n",
    "mez_inc = np.load(\"../Data/MobMat_inc_mezuro.npy\")\n",
    "df = pd.read_csv(\"../Data/Mob_grav_freq.csv\")\n",
    "grav_freq = pd.read_csv(\"../Data/Mob_grav_freq.csv\").drop(\"Unnamed: 0\",axis=1).to_numpy()\n",
    "grav_inc = pd.read_csv(\"../Data/Mob_grav_inc.csv\").drop(\"Unnamed: 0\",axis=1).to_numpy()"
   ]
  },
  {
   "cell_type": "code",
   "execution_count": 2,
   "metadata": {},
   "outputs": [
    {
     "name": "stdout",
     "output_type": "stream",
     "text": [
      "(380, 380)\n",
      "(380, 380)\n",
      "           Unnamed: 0  's-Gravenhage  's-Hertogenbosch  Aa en Hunze   Aalburg  \\\n",
      "0       's-Gravenhage            NaN         12.111327     0.858039  1.988618   \n",
      "1    's-Hertogenbosch      12.111327               NaN     0.335028  0.553863   \n",
      "2         Aa en Hunze       0.858039          0.335028          NaN  0.023206   \n",
      "3             Aalburg       1.988618          0.553863     0.023206       NaN   \n",
      "4            Aalsmeer       5.819463          0.951282     0.062249  0.118842   \n",
      "..                ...            ...               ...          ...       ...   \n",
      "375           Zundert       2.772551          0.748250     0.035032  0.206096   \n",
      "376           Zutphen       2.141346          1.204445     0.193443  0.066195   \n",
      "377   Zwartewaterland       1.044056          0.477508     0.127898  0.029745   \n",
      "378       Zwijndrecht      10.314457          1.454643     0.075890  0.469651   \n",
      "379            Zwolle       5.821290          2.773411     0.702303  0.168580   \n",
      "\n",
      "     Aalsmeer    Aalten  Achtkarspelen  Alblasserdam  Albrandswaard  ...  \\\n",
      "0    5.819463  1.035250       1.090879      4.364231       9.269180  ...   \n",
      "1    0.951282  0.546989       0.396111      0.697477       0.665119  ...   \n",
      "2    0.062249  0.096536       0.215202      0.035100       0.040560  ...   \n",
      "3    0.118842  0.031870       0.028392      0.213908       0.145647  ...   \n",
      "4         NaN  0.074395       0.081816      0.252402       0.249216  ...   \n",
      "..        ...       ...            ...           ...            ...  ...   \n",
      "375  0.142059  0.048801       0.042147      0.183546       0.199552  ...   \n",
      "376  0.162507  0.515664       0.193179      0.096154       0.105690  ...   \n",
      "377  0.082310  0.116173       0.158166      0.044915       0.049917  ...   \n",
      "378  0.491817  0.098987       0.094385      1.943936       1.010906  ...   \n",
      "379  0.455352  0.743727       0.791068      0.252619       0.280126  ...   \n",
      "\n",
      "     Zevenaar  Zoetermeer  Zoeterwoude  Zuidhorn   Zuidplas   Zundert  \\\n",
      "0    2.088557   62.902286     3.598829  2.845575  12.708179  2.772551   \n",
      "1    1.368130    3.304172     0.223100  0.792540   1.298941  0.748250   \n",
      "2    0.142744    0.212944     0.014642  0.033206   0.074509  0.035032   \n",
      "3    0.067946    0.581969     0.036766       NaN   0.265754  0.206096   \n",
      "4    0.158063    1.968174     0.157325  0.170055   0.704710  0.142059   \n",
      "..        ...         ...          ...       ...        ...       ...   \n",
      "375  0.101031    0.721587     0.045364  0.294910   0.289570       NaN   \n",
      "376  1.389291    0.547556     0.037515  0.094720   0.197898  0.098371   \n",
      "377  0.233170    0.266449     0.018415  0.042563   0.094881  0.043423   \n",
      "378  0.206953    3.362609     0.196662  0.672039   1.780239  0.455346   \n",
      "379  1.508545    1.486157     0.102529  0.241226   0.530839  0.246938   \n",
      "\n",
      "      Zutphen  Zwartewaterland  Zwijndrecht    Zwolle  \n",
      "0    2.141346         1.044056    10.314457  5.821290  \n",
      "1    1.204445         0.477508     1.454643  2.773411  \n",
      "2    0.193443         0.127898     0.075890  0.702303  \n",
      "3    0.066195         0.029745     0.469651  0.168580  \n",
      "4    0.162507         0.082310     0.491817  0.455352  \n",
      "..        ...              ...          ...       ...  \n",
      "375  0.098371         0.043423     0.455346  0.246938  \n",
      "376       NaN         0.351660     0.205941  2.471981  \n",
      "377  0.351660              NaN     0.095850  4.621331  \n",
      "378  0.205941         0.095850          NaN  0.539472  \n",
      "379  2.471981         4.621331     0.539472       NaN  \n",
      "\n",
      "[380 rows x 381 columns]\n"
     ]
    }
   ],
   "source": [
    "print(mez_freq.shape)\n",
    "print(grav_inc.shape)\n",
    "print(df)"
   ]
  },
  {
   "cell_type": "code",
   "execution_count": 3,
   "metadata": {},
   "outputs": [
    {
     "name": "stderr",
     "output_type": "stream",
     "text": [
      "C:\\Users\\0915564\\AppData\\Local\\Temp\\ipykernel_23480\\3842824306.py:1: RuntimeWarning: divide by zero encountered in divide\n",
      "  diff_ratio = np.where(mez_freq!= 0, grav_freq/mez_freq, np.nan)\n"
     ]
    }
   ],
   "source": [
    "diff_ratio = np.where(mez_freq!= 0, grav_freq/mez_freq, np.nan)\n",
    "diff_ratio = diff_ratio[~np.isnan(diff_ratio)]"
   ]
  },
  {
   "cell_type": "code",
   "execution_count": 4,
   "metadata": {},
   "outputs": [
    {
     "data": {
      "image/png": "[encoded data removed]",
      "text/plain": [
       "<Figure size 640x480 with 1 Axes>"
      ]
     },
     "metadata": {},
     "output_type": "display_data"
    }
   ],
   "source": [
    "plt.hist(diff_ratio.flatten(), bins=100)\n",
    "plt.yscale(\"log\")\n",
    "# plt.xscale(\"log\")"
   ]
  }
 ],
 "metadata": {
  "kernelspec": {
   "display_name": "Python 3",
   "language": "python",
   "name": "python3"
  },
  "language_info": {
   "codemirror_mode": {
    "name": "ipython",
    "version": 3
   },
   "file_extension": ".py",
   "mimetype": "text/x-python",
   "name": "python",
   "nbconvert_exporter": "python",
   "pygments_lexer": "ipython3",
   "version": "3.11.6"
  }
 },
 "nbformat": 4,
 "nbformat_minor": 2
}
