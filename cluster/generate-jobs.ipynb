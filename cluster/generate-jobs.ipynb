{
 "cells": [
  {
   "cell_type": "code",
   "execution_count": 2,
   "metadata": {},
   "outputs": [],
   "source": [
    "# Generate the job scripts to be run on the cluster.\n",
    "\n",
    "script = \"\"\"#!/bin/bash\n",
    "\n",
    "#exit the job if there is something wrong with /scratch\n",
    "cd /scratch || exit\n",
    "mkdir -p {solisid} || exit\n",
    "cd {solisid} || exit\n",
    "\n",
    "echo \"Copying model to /scratch...\"\n",
    "\n",
    "#recursively copy all the project files from homedir to node /scratch/solisid\n",
    "rsync -r --info=progress2 /nethome/{solisid}/src .\n",
    "cd src/TransmissionModel\n",
    "\n",
    "echo \"Installing requirements\"\n",
    "pip install -r requirements.txt\n",
    "\n",
    "\n",
    "echo \"Running models...\"\n",
    "for i in {{{loop_start}..{loop_end}}} ; do\n",
    "  python3 __MainT__.py $i &\n",
    "done\n",
    "\n",
    "wait\n",
    "\n",
    "echo \"Completed models, copying results to /nethome/solisid...\"\n",
    "\n",
    "cd ..\n",
    "cd Data\n",
    "rsync -r --info=progress2 ./Model_V1/Data/High /nethome/{solisid}/results/{demo}\n",
    "\n",
    "echo \"Done...\"\n",
    "#end of job\"\"\"\n",
    "\n",
    "# Generate jobs in batches of 16\n",
    "for job in range(0, 24):\n",
    "    job_start = job * 16\n",
    "    job_end = min(job_start + 15, 380)\n",
    "    job_script = script.format(loop_start=job_start, loop_end=job_end, demo=5, solisid=6958680)\n",
    "    with open(f\"jobs/job{job}.sh\", \"w\") as file:\n",
    "        file.write(job_script)\n"
   ]
  },
  {
   "cell_type": "code",
   "execution_count": 1,
   "metadata": {},
   "outputs": [
    {
     "name": "stdout",
     "output_type": "stream",
     "text": [
      "set()\n"
     ]
    }
   ],
   "source": [
    "# Check whether all results were correctly generated. \n",
    "# Prints which jobs are missing files (so they can be rerun)\n",
    "# Missing files might happen due to memory issues on the cluster sometimes, or node reboots.\n",
    "\n",
    "import os\n",
    "\n",
    "demo = 1\n",
    "\n",
    "path = os.getcwd() + f'/results/{demo}/High/'\n",
    "\n",
    "jobs_to_rerun = set()\n",
    "for seed in range(5):\n",
    "    path_seed = path + f'Seed_{seed}/'\n",
    "    for loc in range(380):\n",
    "        path_loc = path_seed + f'Runs_ref_4.6_100_5_risk{loc}_{demo}/'\n",
    "        job = int(loc/16)\n",
    "        if not os.path.isdir(path_loc):\n",
    "            print(f'Seed: {seed} | Loc: {loc} | Job: {job}')\n",
    "            jobs_to_rerun.add(job)\n",
    "        else:\n",
    "            for run in range(5):\n",
    "                path_run = path_loc + f'Status_{run}.npz'\n",
    "                if not os.path.isfile(path_run):\n",
    "                  print(f'Seed: {seed} | Loc: {loc} | Job: {job} | Run: {run}')  \n",
    "                  jobs_to_rerun.add(job)\n",
    "\n",
    "print(jobs_to_rerun)"
   ]
  }
 ],
 "metadata": {
  "kernelspec": {
   "display_name": "venv",
   "language": "python",
   "name": "python3"
  },
  "language_info": {
   "codemirror_mode": {
    "name": "ipython",
    "version": 3
   },
   "file_extension": ".py",
   "mimetype": "text/x-python",
   "name": "python",
   "nbconvert_exporter": "python",
   "pygments_lexer": "ipython3",
   "version": "3.9.13"
  }
 },
 "nbformat": 4,
 "nbformat_minor": 2
}
