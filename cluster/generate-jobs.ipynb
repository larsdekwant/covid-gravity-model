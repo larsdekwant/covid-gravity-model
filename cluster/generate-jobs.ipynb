{
 "cells": [
  {
   "cell_type": "code",
   "execution_count": 11,
   "metadata": {},
   "outputs": [],
   "source": [
    "script = \"\"\"#!/bin/bash\n",
    "\n",
    "#exit the job if there is something wrong with /scratch\n",
    "cd /scratch || exit\n",
    "mkdir -p {solisid} || exit\n",
    "cd {solisid} || exit\n",
    "\n",
    "echo \"Copying model to /scratch...\"\n",
    "\n",
    "#recursively copy all the project files from homedir to node /scratch/solisid\n",
    "rsync -r --info=progress2 /nethome/{solisid}/src .\n",
    "cd src/TransmissionModel\n",
    "\n",
    "echo \"Installing requirements\"\n",
    "pip install -r requirements.txt\n",
    "\n",
    "\n",
    "echo \"Running models...\"\n",
    "for i in {{{loop_start}..{loop_end}}} ; do\n",
    "  python3 __MainT__.py $i &\n",
    "done\n",
    "\n",
    "wait\n",
    "\n",
    "echo \"Completed models, copying results to /nethome/solisid...\"\n",
    "\n",
    "cd ..\n",
    "cd Data\n",
    "rsync -r --info=progress2 ./Model_V1/Data/High /nethome/{solisid}/results/{demo}\n",
    "\n",
    "echo \"Done...\"\n",
    "#end of job\"\"\"\n",
    "\n",
    "# Generate jobs in batches of 16\n",
    "for job in range(0, 24):\n",
    "    job_start = job * 16\n",
    "    job_end = min(job_start + 15, 380)\n",
    "    job_script = script.format(loop_start=job_start, loop_end=job_end, demo=3, solisid=6958680)\n",
    "    with open(f\"jobs/job{job}.sh\", \"w\") as file:\n",
    "        file.write(job_script)\n"
   ]
  }
 ],
 "metadata": {
  "kernelspec": {
   "display_name": "venv",
   "language": "python",
   "name": "python3"
  },
  "language_info": {
   "codemirror_mode": {
    "name": "ipython",
    "version": 3
   },
   "file_extension": ".py",
   "mimetype": "text/x-python",
   "name": "python",
   "nbconvert_exporter": "python",
   "pygments_lexer": "ipython3",
   "version": "3.9.13"
  }
 },
 "nbformat": 4,
 "nbformat_minor": 2
}
