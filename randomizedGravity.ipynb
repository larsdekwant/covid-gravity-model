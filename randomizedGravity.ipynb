{
 "cells": [
  {
   "cell_type": "code",
   "execution_count": 15,
   "metadata": {},
   "outputs": [
    {
     "name": "stdout",
     "output_type": "stream",
     "text": [
      "Index(['GM_CODE', 'GM_NAAM', 'H2O', 'OAD', 'STED', 'BEV_DICHTH', 'AANT_INW',\n",
      "       'AANT_MAN', 'AANT_VROUW', 'P_00_14_JR',\n",
      "       ...\n",
      "       'AV20PODIUM', 'AF_MUSEUM', 'AV5_MUSEUM', 'AV10MUSEUM', 'AV20MUSEUM',\n",
      "       'JRSTATCODE', 'JAAR', 'Shape_Leng', 'Shape_Area', 'geometry'],\n",
      "      dtype='object', length=205)\n"
     ]
    }
   ],
   "source": [
    "import geopandas as gpd\n",
    "import pandas as pd\n",
    "import numpy as np\n",
    "import os\n",
    "\n",
    "# Import geomap of the Netherlands\n",
    "mapdf = gpd.read_file('Data/NL-geomap/gemeente_2018_v3.shp')\n",
    "mapdf = mapdf[mapdf[\"H2O\"] == \"NEE\"]\n",
    "mapdf.sort_values(\"GM_NAAM\", inplace=True)\n",
    "mapdf = mapdf.reset_index(drop=True)\n",
    "print(mapdf.columns)\n",
    "\n",
    "# Compute distances between all municipalities\n",
    "mapdf['GEO_CENTROID'] = mapdf.centroid\n",
    "centres = mapdf['GEO_CENTROID']\n",
    "n_mun = mapdf.shape[0]\n",
    "\n",
    "dist_matrix = np.zeros(shape=(n_mun, n_mun))\n",
    "for i in range(0, n_mun):\n",
    "    dist_matrix[i] = centres.distance(centres[i])\n",
    "\n",
    "# Compute mobility based gravity model, without distances\n",
    "population = mapdf['AANT_INW']\n",
    "mob_matrix = np.zeros(shape=(n_mun, n_mun))\n",
    "for i in range(0, n_mun):\n",
    "    for j in range(0, n_mun):\n",
    "        if i != j:\n",
    "            mob_matrix[i,j] = population[i] * population[j]\n",
    "\n",
    "# Import original data to normalize to\n",
    "df_mobmat = pd.read_csv('Data/Mob_grav_freq.csv', delimiter=',')\n",
    "mobmat = df_mobmat[df_mobmat.columns[1:]].to_numpy()\n",
    "\n",
    "# Normalize row sums to original data, so total amount traveled per municipality is the same.\n",
    "for i in range(n):\n",
    "    diff = np.nansum(mob_matrix[i]) / np.nansum(mobmat[i])\n",
    "    mob_matrix[i] = mob_matrix[i] / diff\n",
    "\n",
    "# Save the new matrix\n",
    "path = os.getcwd() + '/Data/'\n",
    "np.save(path + 'Randomized_mob_grav', mob_matrix)\n"
   ]
  },
  {
   "cell_type": "code",
   "execution_count": 9,
   "metadata": {},
   "outputs": [],
   "source": [
    "import os\n",
    "\n",
    "\n",
    "folder_to_clear = \"D:/University/thesis/covid-gravity-model/Data/Model_V1/Data/High/Seed_5\"\n",
    "\n",
    "for demo in range(0, 11):\n",
    "    path = folder_to_clear + '/Runs_ref_3_3_5_' + str(demo)\n",
    "    for run in range(0, 10):\n",
    "        os.remove(path + '/Contacts_per_agent_' + str(run) + '.npy')\n"
   ]
  }
 ],
 "metadata": {
  "kernelspec": {
   "display_name": "venv",
   "language": "python",
   "name": "python3"
  },
  "language_info": {
   "codemirror_mode": {
    "name": "ipython",
    "version": 3
   },
   "file_extension": ".py",
   "mimetype": "text/x-python",
   "name": "python",
   "nbconvert_exporter": "python",
   "pygments_lexer": "ipython3",
   "version": "3.9.13"
  }
 },
 "nbformat": 4,
 "nbformat_minor": 2
}
