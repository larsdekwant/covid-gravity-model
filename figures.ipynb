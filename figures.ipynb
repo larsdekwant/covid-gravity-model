{
 "cells": [
  {
   "cell_type": "code",
   "execution_count": 46,
   "metadata": {},
   "outputs": [],
   "source": [
    "import numpy as np\n",
    "import pandas as pd\n",
    "import os\n",
    "\n",
    "class ModelData:\n",
    "    def __init__(self):\n",
    "        self.name = None\n",
    "        self.gem = None\n",
    "        self.gem_id = None\n",
    "        self.pos = None\n",
    "        self.people = None\n",
    "        self.phases = None\n",
    "        self.status = None\n",
    "        self.timestep = None\n",
    "\n",
    "        self.exposed = None\n",
    "        self.infected = None\n",
    "        self.recovered = None\n",
    "\n",
    "# Load data\n",
    "def load_data(seed, run, intervention):\n",
    "    path = os.getcwd() + '/Data/Model_V1/Data/'\n",
    "\n",
    "    data = ModelData()\n",
    "    data.name = intervention\n",
    "    data.gem = pd.read_pickle(path + 'Gemeenten.pkl')\n",
    "    data.gem_id = pd.read_pickle(path +'GemeentenID.pkl')\n",
    "    data.pos = np.load(path + 'Positions.npy')\n",
    "\n",
    "    path = os.getcwd() + '/Data/Model_V1/Data/High/Seed_' + str(seed) + '/'\n",
    "\n",
    "    data.people = pd.read_pickle(path + 'PeopleDF.pkl')\n",
    "\n",
    "    data.phases = pd.read_pickle(path + 'Runs_' + intervention + '/Phases_' + str(run) + '.pkl')\n",
    "    data.status = np.load(path + 'Runs_' + intervention + '/Status_' + str(run) + '.npz')\n",
    "    data.timestep = np.loadtxt(path + 'Runs_' + intervention + '/Timestep_' + str(run))\n",
    "\n",
    "    return data"
   ]
  },
  {
   "cell_type": "code",
   "execution_count": 47,
   "metadata": {},
   "outputs": [
    {
     "name": "stdout",
     "output_type": "stream",
     "text": [
      "Succesfully loaded 4 data points\n"
     ]
    }
   ],
   "source": [
    "seeds = [0]\n",
    "runs = [0]\n",
    "interventions = ['ref', 'behavior', 'working', 'school']\n",
    "\n",
    "data_points = []\n",
    "for seed in seeds:\n",
    "    for run in runs:\n",
    "        for intervention in interventions:\n",
    "            data_points.append(load_data(seed, run, intervention))\n",
    "\n",
    "print('Succesfully loaded ' + str(len(data_points)) + ' data points')"
   ]
  },
  {
   "cell_type": "code",
   "execution_count": 48,
   "metadata": {},
   "outputs": [
    {
     "name": "stdout",
     "output_type": "stream",
     "text": [
      "name:  ref\n",
      "gem:  (380, 1)\n",
      "gem_id:  (380, 1)\n",
      "pos:  (7, 24, 170721)\n",
      "people:  (170721, 382)\n",
      "['indices', 'indptr', 'format', 'shape', 'data']\n",
      "timesteps:  (2881,)\n",
      "status:  (40146882,)\n"
     ]
    }
   ],
   "source": [
    "# Print info for a specific datapoint\n",
    "data = data_points[0]\n",
    "print('name: ', data.name)\n",
    "print('gem: ', data.gem.shape)\n",
    "print('gem_id: ', data.gem_id.shape)\n",
    "print('pos: ',data.pos.shape)\n",
    "print('people: ',data.people.shape)\n",
    "print(data.status.files)\n",
    "\n",
    "# timesteps: n_days * 24\n",
    "print('timesteps: ', data.status['indptr'].shape)\n",
    "print('status: ', data.status['data'].shape)"
   ]
  },
  {
   "cell_type": "code",
   "execution_count": 69,
   "metadata": {},
   "outputs": [
    {
     "name": "stdout",
     "output_type": "stream",
     "text": [
      "2880\n",
      "3\n"
     ]
    }
   ],
   "source": [
    "# Compute infected cases per timestep\n",
    "for data in data_points:\n",
    "    timesteps = data.status['indptr'].shape[0] -1\n",
    "    raw_data = data.status['data']\n",
    "    indptr = data.status['indptr']\n",
    "\n",
    "    data.exposed = np.zeros(timesteps)\n",
    "    data.infected = np.zeros(timesteps)\n",
    "    data.recovered = np.zeros(timesteps)\n",
    "    for t in range(0, timesteps):\n",
    "        timestamp_row = raw_data[indptr[t] : indptr[t + 1]]\n",
    "        data.exposed[t] = np.count_nonzero(timestamp_row == 1)\n",
    "        data.infected[t] = np.count_nonzero(timestamp_row == 2)\n",
    "        data.recovered[t] = np.count_nonzero(timestamp_row == 3)\n",
    "\n",
    "# Minimum at 107\n",
    "print(data_points[0].infected.size)\n",
    "print(np.argmin(data_points[0].infected))"
   ]
  },
  {
   "cell_type": "code",
   "execution_count": 70,
   "metadata": {},
   "outputs": [
    {
     "name": "stderr",
     "output_type": "stream",
     "text": [
      "d:\\University\\thesis\\covid-gravity-model\\venv\\lib\\site-packages\\numpy\\core\\fromnumeric.py:59: RuntimeWarning: invalid value encountered in accumulate\n",
      "  return bound(*args, **kwds)\n"
     ]
    },
    {
     "data": {
      "image/png": "[encoded data removed]",
      "text/plain": [
       "<Figure size 640x480 with 1 Axes>"
      ]
     },
     "metadata": {},
     "output_type": "display_data"
    }
   ],
   "source": [
    "import matplotlib.pyplot as plt\n",
    "\n",
    "# For easy comparison to figure 3 of the paper.\n",
    "color_map = {\n",
    "    'ref': 'green',\n",
    "    'school': 'orange',\n",
    "    'behavior': 'blue',\n",
    "    'working': 'red'\n",
    "}\n",
    "\n",
    "plt.title('Cumulative infected cases over time')\n",
    "plt.xlabel('time (h)')\n",
    "plt.ylabel('infected')\n",
    "#plt.yscale('log')\n",
    "for data in data_points:\n",
    "    plt.plot(np.arange(0, len(data.infected)), np.cumsum(data.infected), label=data.name, color=color_map[data.name])\n",
    "plt.legend()\n",
    "plt.show()"
   ]
  }
 ],
 "metadata": {
  "kernelspec": {
   "display_name": "venv",
   "language": "python",
   "name": "python3"
  },
  "language_info": {
   "codemirror_mode": {
    "name": "ipython",
    "version": 3
   },
   "file_extension": ".py",
   "mimetype": "text/x-python",
   "name": "python",
   "nbconvert_exporter": "python",
   "pygments_lexer": "ipython3",
   "version": "3.9.13"
  }
 },
 "nbformat": 4,
 "nbformat_minor": 2
}
